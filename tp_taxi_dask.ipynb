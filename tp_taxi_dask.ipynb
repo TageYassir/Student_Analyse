{
 "nbformat": 4,
 "nbformat_minor": 0,
 "metadata": {
  "colab": {
   "provenance": []
  },
  "kernelspec": {
   "name": "python3",
   "display_name": "Python 3 (ipykernel)",
   "language": "python"
  },
  "language_info": {
   "name": "python"
  }
 },
 "cells": [
  {
   "cell_type": "code",
   "metadata": {
    "id": "OM0omIGHFVbr",
    "ExecuteTime": {
     "end_time": "2025-03-27T14:09:48.561817Z",
     "start_time": "2025-03-27T14:09:48.261935Z"
    }
   },
   "source": [
    "import dask.dataframe as dd\n",
    "import pandas as pd\n",
    "import numpy as np\n",
    "import seaborn as sns\n",
    "import matplotlib.pyplot as plt"
   ],
   "outputs": [],
   "execution_count": 1
  },
  {
   "cell_type": "code",
   "source": [
    "# Load data using Dask\n",
    "df_dask = dd.read_parquet(r\"/backend/uploads/yellow_tripdata_2024-01.parquet\")"
   ],
   "metadata": {
    "id": "celezQLCFfYC",
    "ExecuteTime": {
     "end_time": "2025-03-27T14:09:48.593484Z",
     "start_time": "2025-03-27T14:09:48.566842Z"
    }
   },
   "outputs": [],
   "execution_count": 2
  },
  {
   "cell_type": "code",
   "source": [
    "df_dask.head()"
   ],
   "metadata": {
    "colab": {
     "base_uri": "https://localhost:8080/",
     "height": 226
    },
    "id": "a8-NJ5ZfFjpK",
    "outputId": "316d02e1-0c27-47e5-c4d0-cd9d065eb023",
    "ExecuteTime": {
     "end_time": "2025-03-27T14:09:49.582053Z",
     "start_time": "2025-03-27T14:09:48.770385Z"
    }
   },
   "outputs": [
    {
     "data": {
      "text/plain": [
       "   VendorID tpep_pickup_datetime tpep_dropoff_datetime  passenger_count  \\\n",
       "0         2  2024-01-01 00:57:55   2024-01-01 01:17:43              1.0   \n",
       "1         1  2024-01-01 00:03:00   2024-01-01 00:09:36              1.0   \n",
       "2         1  2024-01-01 00:17:06   2024-01-01 00:35:01              1.0   \n",
       "3         1  2024-01-01 00:36:38   2024-01-01 00:44:56              1.0   \n",
       "4         1  2024-01-01 00:46:51   2024-01-01 00:52:57              1.0   \n",
       "\n",
       "   trip_distance  RatecodeID store_and_fwd_flag  PULocationID  DOLocationID  \\\n",
       "0           1.72         1.0                  N           186            79   \n",
       "1           1.80         1.0                  N           140           236   \n",
       "2           4.70         1.0                  N           236            79   \n",
       "3           1.40         1.0                  N            79           211   \n",
       "4           0.80         1.0                  N           211           148   \n",
       "\n",
       "   payment_type  fare_amount  extra  mta_tax  tip_amount  tolls_amount  \\\n",
       "0             2         17.7    1.0      0.5        0.00           0.0   \n",
       "1             1         10.0    3.5      0.5        3.75           0.0   \n",
       "2             1         23.3    3.5      0.5        3.00           0.0   \n",
       "3             1         10.0    3.5      0.5        2.00           0.0   \n",
       "4             1          7.9    3.5      0.5        3.20           0.0   \n",
       "\n",
       "   improvement_surcharge  total_amount  congestion_surcharge  Airport_fee  \n",
       "0                    1.0         22.70                   2.5          0.0  \n",
       "1                    1.0         18.75                   2.5          0.0  \n",
       "2                    1.0         31.30                   2.5          0.0  \n",
       "3                    1.0         17.00                   2.5          0.0  \n",
       "4                    1.0         16.10                   2.5          0.0  "
      ],
      "text/html": [
       "<div>\n",
       "<style scoped>\n",
       "    .dataframe tbody tr th:only-of-type {\n",
       "        vertical-align: middle;\n",
       "    }\n",
       "\n",
       "    .dataframe tbody tr th {\n",
       "        vertical-align: top;\n",
       "    }\n",
       "\n",
       "    .dataframe thead th {\n",
       "        text-align: right;\n",
       "    }\n",
       "</style>\n",
       "<table border=\"1\" class=\"dataframe\">\n",
       "  <thead>\n",
       "    <tr style=\"text-align: right;\">\n",
       "      <th></th>\n",
       "      <th>VendorID</th>\n",
       "      <th>tpep_pickup_datetime</th>\n",
       "      <th>tpep_dropoff_datetime</th>\n",
       "      <th>passenger_count</th>\n",
       "      <th>trip_distance</th>\n",
       "      <th>RatecodeID</th>\n",
       "      <th>store_and_fwd_flag</th>\n",
       "      <th>PULocationID</th>\n",
       "      <th>DOLocationID</th>\n",
       "      <th>payment_type</th>\n",
       "      <th>fare_amount</th>\n",
       "      <th>extra</th>\n",
       "      <th>mta_tax</th>\n",
       "      <th>tip_amount</th>\n",
       "      <th>tolls_amount</th>\n",
       "      <th>improvement_surcharge</th>\n",
       "      <th>total_amount</th>\n",
       "      <th>congestion_surcharge</th>\n",
       "      <th>Airport_fee</th>\n",
       "    </tr>\n",
       "  </thead>\n",
       "  <tbody>\n",
       "    <tr>\n",
       "      <th>0</th>\n",
       "      <td>2</td>\n",
       "      <td>2024-01-01 00:57:55</td>\n",
       "      <td>2024-01-01 01:17:43</td>\n",
       "      <td>1.0</td>\n",
       "      <td>1.72</td>\n",
       "      <td>1.0</td>\n",
       "      <td>N</td>\n",
       "      <td>186</td>\n",
       "      <td>79</td>\n",
       "      <td>2</td>\n",
       "      <td>17.7</td>\n",
       "      <td>1.0</td>\n",
       "      <td>0.5</td>\n",
       "      <td>0.00</td>\n",
       "      <td>0.0</td>\n",
       "      <td>1.0</td>\n",
       "      <td>22.70</td>\n",
       "      <td>2.5</td>\n",
       "      <td>0.0</td>\n",
       "    </tr>\n",
       "    <tr>\n",
       "      <th>1</th>\n",
       "      <td>1</td>\n",
       "      <td>2024-01-01 00:03:00</td>\n",
       "      <td>2024-01-01 00:09:36</td>\n",
       "      <td>1.0</td>\n",
       "      <td>1.80</td>\n",
       "      <td>1.0</td>\n",
       "      <td>N</td>\n",
       "      <td>140</td>\n",
       "      <td>236</td>\n",
       "      <td>1</td>\n",
       "      <td>10.0</td>\n",
       "      <td>3.5</td>\n",
       "      <td>0.5</td>\n",
       "      <td>3.75</td>\n",
       "      <td>0.0</td>\n",
       "      <td>1.0</td>\n",
       "      <td>18.75</td>\n",
       "      <td>2.5</td>\n",
       "      <td>0.0</td>\n",
       "    </tr>\n",
       "    <tr>\n",
       "      <th>2</th>\n",
       "      <td>1</td>\n",
       "      <td>2024-01-01 00:17:06</td>\n",
       "      <td>2024-01-01 00:35:01</td>\n",
       "      <td>1.0</td>\n",
       "      <td>4.70</td>\n",
       "      <td>1.0</td>\n",
       "      <td>N</td>\n",
       "      <td>236</td>\n",
       "      <td>79</td>\n",
       "      <td>1</td>\n",
       "      <td>23.3</td>\n",
       "      <td>3.5</td>\n",
       "      <td>0.5</td>\n",
       "      <td>3.00</td>\n",
       "      <td>0.0</td>\n",
       "      <td>1.0</td>\n",
       "      <td>31.30</td>\n",
       "      <td>2.5</td>\n",
       "      <td>0.0</td>\n",
       "    </tr>\n",
       "    <tr>\n",
       "      <th>3</th>\n",
       "      <td>1</td>\n",
       "      <td>2024-01-01 00:36:38</td>\n",
       "      <td>2024-01-01 00:44:56</td>\n",
       "      <td>1.0</td>\n",
       "      <td>1.40</td>\n",
       "      <td>1.0</td>\n",
       "      <td>N</td>\n",
       "      <td>79</td>\n",
       "      <td>211</td>\n",
       "      <td>1</td>\n",
       "      <td>10.0</td>\n",
       "      <td>3.5</td>\n",
       "      <td>0.5</td>\n",
       "      <td>2.00</td>\n",
       "      <td>0.0</td>\n",
       "      <td>1.0</td>\n",
       "      <td>17.00</td>\n",
       "      <td>2.5</td>\n",
       "      <td>0.0</td>\n",
       "    </tr>\n",
       "    <tr>\n",
       "      <th>4</th>\n",
       "      <td>1</td>\n",
       "      <td>2024-01-01 00:46:51</td>\n",
       "      <td>2024-01-01 00:52:57</td>\n",
       "      <td>1.0</td>\n",
       "      <td>0.80</td>\n",
       "      <td>1.0</td>\n",
       "      <td>N</td>\n",
       "      <td>211</td>\n",
       "      <td>148</td>\n",
       "      <td>1</td>\n",
       "      <td>7.9</td>\n",
       "      <td>3.5</td>\n",
       "      <td>0.5</td>\n",
       "      <td>3.20</td>\n",
       "      <td>0.0</td>\n",
       "      <td>1.0</td>\n",
       "      <td>16.10</td>\n",
       "      <td>2.5</td>\n",
       "      <td>0.0</td>\n",
       "    </tr>\n",
       "  </tbody>\n",
       "</table>\n",
       "</div>"
      ]
     },
     "execution_count": 3,
     "metadata": {},
     "output_type": "execute_result"
    }
   ],
   "execution_count": 3
  },
  {
   "cell_type": "code",
   "source": [
    "df_dask.info()\n",
    "df_dask.dtypes"
   ],
   "metadata": {
    "colab": {
     "base_uri": "https://localhost:8080/",
     "height": 732
    },
    "id": "K_rG8qk5Fm5K",
    "outputId": "2b6a20f0-aa70-4e45-b20c-615590958392",
    "ExecuteTime": {
     "end_time": "2025-03-27T14:09:49.660737Z",
     "start_time": "2025-03-27T14:09:49.644707Z"
    }
   },
   "outputs": [
    {
     "name": "stdout",
     "output_type": "stream",
     "text": [
      "<class 'dask.dataframe.dask_expr.DataFrame'>\n",
      "Columns: 19 entries, VendorID to Airport_fee\n",
      "dtypes: datetime64[us](2), float64(10), int32(3), int64(3), string(1)"
     ]
    },
    {
     "data": {
      "text/plain": [
       "VendorID                           int32\n",
       "tpep_pickup_datetime      datetime64[us]\n",
       "tpep_dropoff_datetime     datetime64[us]\n",
       "passenger_count                    int64\n",
       "trip_distance                    float64\n",
       "RatecodeID                         int64\n",
       "store_and_fwd_flag       string[pyarrow]\n",
       "PULocationID                       int32\n",
       "DOLocationID                       int32\n",
       "payment_type                       int64\n",
       "fare_amount                      float64\n",
       "extra                            float64\n",
       "mta_tax                          float64\n",
       "tip_amount                       float64\n",
       "tolls_amount                     float64\n",
       "improvement_surcharge            float64\n",
       "total_amount                     float64\n",
       "congestion_surcharge             float64\n",
       "Airport_fee                      float64\n",
       "dtype: object"
      ]
     },
     "execution_count": 4,
     "metadata": {},
     "output_type": "execute_result"
    }
   ],
   "execution_count": 4
  },
  {
   "cell_type": "code",
   "source": [
    "# Compute the sum of NaN values per column\n",
    "df_dask.isnull().sum().compute()"
   ],
   "metadata": {
    "colab": {
     "base_uri": "https://localhost:8080/",
     "height": 680
    },
    "id": "Xv1klqTaFnb6",
    "outputId": "75a8b5bf-b330-4683-b868-1dfde8cdb5e7",
    "ExecuteTime": {
     "end_time": "2025-03-27T14:09:50.824516Z",
     "start_time": "2025-03-27T14:09:49.833958Z"
    }
   },
   "outputs": [
    {
     "data": {
      "text/plain": [
       "VendorID                      0\n",
       "tpep_pickup_datetime          0\n",
       "tpep_dropoff_datetime         0\n",
       "passenger_count          140162\n",
       "trip_distance                 0\n",
       "RatecodeID               140162\n",
       "store_and_fwd_flag       140162\n",
       "PULocationID                  0\n",
       "DOLocationID                  0\n",
       "payment_type                  0\n",
       "fare_amount                   0\n",
       "extra                         0\n",
       "mta_tax                       0\n",
       "tip_amount                    0\n",
       "tolls_amount                  0\n",
       "improvement_surcharge         0\n",
       "total_amount                  0\n",
       "congestion_surcharge     140162\n",
       "Airport_fee              140162\n",
       "dtype: int64"
      ]
     },
     "execution_count": 5,
     "metadata": {},
     "output_type": "execute_result"
    }
   ],
   "execution_count": 5
  },
  {
   "cell_type": "code",
   "source": [
    "# Statistics\n",
    "df_dask.describe().compute()"
   ],
   "metadata": {
    "colab": {
     "base_uri": "https://localhost:8080/",
     "height": 389
    },
    "id": "WmMmILkFFzha",
    "outputId": "3c7f7472-166f-452f-dff5-3836a2945649",
    "ExecuteTime": {
     "end_time": "2025-03-27T14:09:52.281207Z",
     "start_time": "2025-03-27T14:09:50.829888Z"
    }
   },
   "outputs": [
    {
     "data": {
      "text/plain": [
       "           VendorID        tpep_pickup_datetime       tpep_dropoff_datetime  \\\n",
       "count  2.964624e+06                     2964624                     2964624   \n",
       "mean   1.754204e+00                         NaN                         NaN   \n",
       "std    4.325902e-01                         NaN                         NaN   \n",
       "min    1.000000e+00         2002-12-31 22:59:39         2002-12-31 23:05:41   \n",
       "25%    2.000000e+00  2024-01-09 15:59:19.750000         2024-01-09 16:16:23   \n",
       "50%    2.000000e+00  2024-01-17 10:45:37.500000  2024-01-17 11:03:51.500000   \n",
       "75%    2.000000e+00  2024-01-24 18:23:52.250000         2024-01-24 18:40:29   \n",
       "max    6.000000e+00         2024-02-01 00:01:15         2024-02-02 13:56:52   \n",
       "\n",
       "       passenger_count  trip_distance    RatecodeID  PULocationID  \\\n",
       "count     2.824462e+06   2.964624e+06  2.824462e+06  2.964624e+06   \n",
       "mean      1.339281e+00   3.652169e+00  2.069359e+00  1.660179e+02   \n",
       "std       8.502817e-01   2.254626e+02  9.823219e+00  6.362391e+01   \n",
       "min       0.000000e+00   0.000000e+00  1.000000e+00  1.000000e+00   \n",
       "25%       1.000000e+00   1.000000e+00  1.000000e+00  1.320000e+02   \n",
       "50%       1.000000e+00   1.680000e+00  1.000000e+00  1.620000e+02   \n",
       "75%       1.000000e+00   3.110000e+00  1.000000e+00  2.340000e+02   \n",
       "max       9.000000e+00   3.127223e+05  9.900000e+01  2.650000e+02   \n",
       "\n",
       "       DOLocationID  payment_type   fare_amount         extra       mta_tax  \\\n",
       "count  2.964624e+06  2.964624e+06  2.964624e+06  2.964624e+06  2.964624e+06   \n",
       "mean   1.651167e+02  1.161271e+00  1.817506e+01  1.451598e+00  4.833823e-01   \n",
       "std    6.931535e+01  5.808686e-01  1.894955e+01  1.804102e+00  1.177600e-01   \n",
       "min    1.000000e+00  0.000000e+00 -8.990000e+02 -7.500000e+00 -5.000000e-01   \n",
       "25%    1.140000e+02  1.000000e+00  8.600000e+00  0.000000e+00  5.000000e-01   \n",
       "50%    1.620000e+02  1.000000e+00  1.280000e+01  1.000000e+00  5.000000e-01   \n",
       "75%    2.340000e+02  1.000000e+00  2.050000e+01  2.500000e+00  5.000000e-01   \n",
       "max    2.650000e+02  4.000000e+00  5.000000e+03  1.425000e+01  4.000000e+00   \n",
       "\n",
       "         tip_amount  tolls_amount  improvement_surcharge  total_amount  \\\n",
       "count  2.964624e+06  2.964624e+06           2.964624e+06  2.964624e+06   \n",
       "mean   3.335870e+00  5.270212e-01           9.756319e-01  2.680150e+01   \n",
       "std    3.896551e+00  2.128310e+00           2.183645e-01  2.338558e+01   \n",
       "min   -8.000000e+01 -8.000000e+01          -1.000000e+00 -9.000000e+02   \n",
       "25%    1.000000e+00  0.000000e+00           1.000000e+00  1.538000e+01   \n",
       "50%    2.700000e+00  0.000000e+00           1.000000e+00  2.010000e+01   \n",
       "75%    4.120000e+00  0.000000e+00           1.000000e+00  2.856000e+01   \n",
       "max    4.280000e+02  1.159200e+02           1.000000e+00  5.000000e+03   \n",
       "\n",
       "       congestion_surcharge   Airport_fee  \n",
       "count          2.824462e+06  2.824462e+06  \n",
       "mean           2.256122e+00  1.411611e-01  \n",
       "std            8.232747e-01  4.876239e-01  \n",
       "min           -2.500000e+00 -1.750000e+00  \n",
       "25%            2.500000e+00  0.000000e+00  \n",
       "50%            2.500000e+00  0.000000e+00  \n",
       "75%            2.500000e+00  0.000000e+00  \n",
       "max            2.500000e+00  1.750000e+00  "
      ],
      "text/html": [
       "<div>\n",
       "<style scoped>\n",
       "    .dataframe tbody tr th:only-of-type {\n",
       "        vertical-align: middle;\n",
       "    }\n",
       "\n",
       "    .dataframe tbody tr th {\n",
       "        vertical-align: top;\n",
       "    }\n",
       "\n",
       "    .dataframe thead th {\n",
       "        text-align: right;\n",
       "    }\n",
       "</style>\n",
       "<table border=\"1\" class=\"dataframe\">\n",
       "  <thead>\n",
       "    <tr style=\"text-align: right;\">\n",
       "      <th></th>\n",
       "      <th>VendorID</th>\n",
       "      <th>tpep_pickup_datetime</th>\n",
       "      <th>tpep_dropoff_datetime</th>\n",
       "      <th>passenger_count</th>\n",
       "      <th>trip_distance</th>\n",
       "      <th>RatecodeID</th>\n",
       "      <th>PULocationID</th>\n",
       "      <th>DOLocationID</th>\n",
       "      <th>payment_type</th>\n",
       "      <th>fare_amount</th>\n",
       "      <th>extra</th>\n",
       "      <th>mta_tax</th>\n",
       "      <th>tip_amount</th>\n",
       "      <th>tolls_amount</th>\n",
       "      <th>improvement_surcharge</th>\n",
       "      <th>total_amount</th>\n",
       "      <th>congestion_surcharge</th>\n",
       "      <th>Airport_fee</th>\n",
       "    </tr>\n",
       "  </thead>\n",
       "  <tbody>\n",
       "    <tr>\n",
       "      <th>count</th>\n",
       "      <td>2.964624e+06</td>\n",
       "      <td>2964624</td>\n",
       "      <td>2964624</td>\n",
       "      <td>2.824462e+06</td>\n",
       "      <td>2.964624e+06</td>\n",
       "      <td>2.824462e+06</td>\n",
       "      <td>2.964624e+06</td>\n",
       "      <td>2.964624e+06</td>\n",
       "      <td>2.964624e+06</td>\n",
       "      <td>2.964624e+06</td>\n",
       "      <td>2.964624e+06</td>\n",
       "      <td>2.964624e+06</td>\n",
       "      <td>2.964624e+06</td>\n",
       "      <td>2.964624e+06</td>\n",
       "      <td>2.964624e+06</td>\n",
       "      <td>2.964624e+06</td>\n",
       "      <td>2.824462e+06</td>\n",
       "      <td>2.824462e+06</td>\n",
       "    </tr>\n",
       "    <tr>\n",
       "      <th>mean</th>\n",
       "      <td>1.754204e+00</td>\n",
       "      <td>NaN</td>\n",
       "      <td>NaN</td>\n",
       "      <td>1.339281e+00</td>\n",
       "      <td>3.652169e+00</td>\n",
       "      <td>2.069359e+00</td>\n",
       "      <td>1.660179e+02</td>\n",
       "      <td>1.651167e+02</td>\n",
       "      <td>1.161271e+00</td>\n",
       "      <td>1.817506e+01</td>\n",
       "      <td>1.451598e+00</td>\n",
       "      <td>4.833823e-01</td>\n",
       "      <td>3.335870e+00</td>\n",
       "      <td>5.270212e-01</td>\n",
       "      <td>9.756319e-01</td>\n",
       "      <td>2.680150e+01</td>\n",
       "      <td>2.256122e+00</td>\n",
       "      <td>1.411611e-01</td>\n",
       "    </tr>\n",
       "    <tr>\n",
       "      <th>std</th>\n",
       "      <td>4.325902e-01</td>\n",
       "      <td>NaN</td>\n",
       "      <td>NaN</td>\n",
       "      <td>8.502817e-01</td>\n",
       "      <td>2.254626e+02</td>\n",
       "      <td>9.823219e+00</td>\n",
       "      <td>6.362391e+01</td>\n",
       "      <td>6.931535e+01</td>\n",
       "      <td>5.808686e-01</td>\n",
       "      <td>1.894955e+01</td>\n",
       "      <td>1.804102e+00</td>\n",
       "      <td>1.177600e-01</td>\n",
       "      <td>3.896551e+00</td>\n",
       "      <td>2.128310e+00</td>\n",
       "      <td>2.183645e-01</td>\n",
       "      <td>2.338558e+01</td>\n",
       "      <td>8.232747e-01</td>\n",
       "      <td>4.876239e-01</td>\n",
       "    </tr>\n",
       "    <tr>\n",
       "      <th>min</th>\n",
       "      <td>1.000000e+00</td>\n",
       "      <td>2002-12-31 22:59:39</td>\n",
       "      <td>2002-12-31 23:05:41</td>\n",
       "      <td>0.000000e+00</td>\n",
       "      <td>0.000000e+00</td>\n",
       "      <td>1.000000e+00</td>\n",
       "      <td>1.000000e+00</td>\n",
       "      <td>1.000000e+00</td>\n",
       "      <td>0.000000e+00</td>\n",
       "      <td>-8.990000e+02</td>\n",
       "      <td>-7.500000e+00</td>\n",
       "      <td>-5.000000e-01</td>\n",
       "      <td>-8.000000e+01</td>\n",
       "      <td>-8.000000e+01</td>\n",
       "      <td>-1.000000e+00</td>\n",
       "      <td>-9.000000e+02</td>\n",
       "      <td>-2.500000e+00</td>\n",
       "      <td>-1.750000e+00</td>\n",
       "    </tr>\n",
       "    <tr>\n",
       "      <th>25%</th>\n",
       "      <td>2.000000e+00</td>\n",
       "      <td>2024-01-09 15:59:19.750000</td>\n",
       "      <td>2024-01-09 16:16:23</td>\n",
       "      <td>1.000000e+00</td>\n",
       "      <td>1.000000e+00</td>\n",
       "      <td>1.000000e+00</td>\n",
       "      <td>1.320000e+02</td>\n",
       "      <td>1.140000e+02</td>\n",
       "      <td>1.000000e+00</td>\n",
       "      <td>8.600000e+00</td>\n",
       "      <td>0.000000e+00</td>\n",
       "      <td>5.000000e-01</td>\n",
       "      <td>1.000000e+00</td>\n",
       "      <td>0.000000e+00</td>\n",
       "      <td>1.000000e+00</td>\n",
       "      <td>1.538000e+01</td>\n",
       "      <td>2.500000e+00</td>\n",
       "      <td>0.000000e+00</td>\n",
       "    </tr>\n",
       "    <tr>\n",
       "      <th>50%</th>\n",
       "      <td>2.000000e+00</td>\n",
       "      <td>2024-01-17 10:45:37.500000</td>\n",
       "      <td>2024-01-17 11:03:51.500000</td>\n",
       "      <td>1.000000e+00</td>\n",
       "      <td>1.680000e+00</td>\n",
       "      <td>1.000000e+00</td>\n",
       "      <td>1.620000e+02</td>\n",
       "      <td>1.620000e+02</td>\n",
       "      <td>1.000000e+00</td>\n",
       "      <td>1.280000e+01</td>\n",
       "      <td>1.000000e+00</td>\n",
       "      <td>5.000000e-01</td>\n",
       "      <td>2.700000e+00</td>\n",
       "      <td>0.000000e+00</td>\n",
       "      <td>1.000000e+00</td>\n",
       "      <td>2.010000e+01</td>\n",
       "      <td>2.500000e+00</td>\n",
       "      <td>0.000000e+00</td>\n",
       "    </tr>\n",
       "    <tr>\n",
       "      <th>75%</th>\n",
       "      <td>2.000000e+00</td>\n",
       "      <td>2024-01-24 18:23:52.250000</td>\n",
       "      <td>2024-01-24 18:40:29</td>\n",
       "      <td>1.000000e+00</td>\n",
       "      <td>3.110000e+00</td>\n",
       "      <td>1.000000e+00</td>\n",
       "      <td>2.340000e+02</td>\n",
       "      <td>2.340000e+02</td>\n",
       "      <td>1.000000e+00</td>\n",
       "      <td>2.050000e+01</td>\n",
       "      <td>2.500000e+00</td>\n",
       "      <td>5.000000e-01</td>\n",
       "      <td>4.120000e+00</td>\n",
       "      <td>0.000000e+00</td>\n",
       "      <td>1.000000e+00</td>\n",
       "      <td>2.856000e+01</td>\n",
       "      <td>2.500000e+00</td>\n",
       "      <td>0.000000e+00</td>\n",
       "    </tr>\n",
       "    <tr>\n",
       "      <th>max</th>\n",
       "      <td>6.000000e+00</td>\n",
       "      <td>2024-02-01 00:01:15</td>\n",
       "      <td>2024-02-02 13:56:52</td>\n",
       "      <td>9.000000e+00</td>\n",
       "      <td>3.127223e+05</td>\n",
       "      <td>9.900000e+01</td>\n",
       "      <td>2.650000e+02</td>\n",
       "      <td>2.650000e+02</td>\n",
       "      <td>4.000000e+00</td>\n",
       "      <td>5.000000e+03</td>\n",
       "      <td>1.425000e+01</td>\n",
       "      <td>4.000000e+00</td>\n",
       "      <td>4.280000e+02</td>\n",
       "      <td>1.159200e+02</td>\n",
       "      <td>1.000000e+00</td>\n",
       "      <td>5.000000e+03</td>\n",
       "      <td>2.500000e+00</td>\n",
       "      <td>1.750000e+00</td>\n",
       "    </tr>\n",
       "  </tbody>\n",
       "</table>\n",
       "</div>"
      ]
     },
     "execution_count": 6,
     "metadata": {},
     "output_type": "execute_result"
    }
   ],
   "execution_count": 6
  },
  {
   "cell_type": "code",
   "source": [
    "# Remplir les valeurs manquantes\n",
    "df_dask = df_dask.fillna({\n",
    "    \"RatecodeID\": 1,\n",
    "    \"store_and_fwd_flag\": \"N\",  # Vous pouvez choisir \"N\" ou \"Y\"\n",
    "    \"congestion_surcharge\": 2.5,\n",
    "    \"Airport_fee\": 0\n",
    "})"
   ],
   "metadata": {
    "id": "bgLl9m6XGJ0K",
    "ExecuteTime": {
     "end_time": "2025-04-16T11:15:27.682538Z",
     "start_time": "2025-04-16T11:15:27.434278Z"
    }
   },
   "outputs": [
    {
     "ename": "NameError",
     "evalue": "name 'df_dask' is not defined",
     "output_type": "error",
     "traceback": [
      "\u001B[1;31m---------------------------------------------------------------------------\u001B[0m",
      "\u001B[1;31mNameError\u001B[0m                                 Traceback (most recent call last)",
      "Cell \u001B[1;32mIn[1], line 2\u001B[0m\n\u001B[0;32m      1\u001B[0m \u001B[38;5;66;03m# Remplir les valeurs manquantes\u001B[39;00m\n\u001B[1;32m----> 2\u001B[0m df_dask \u001B[38;5;241m=\u001B[39m \u001B[43mdf_dask\u001B[49m\u001B[38;5;241m.\u001B[39mfillna({\n\u001B[0;32m      3\u001B[0m     \u001B[38;5;124m\"\u001B[39m\u001B[38;5;124mRatecodeID\u001B[39m\u001B[38;5;124m\"\u001B[39m: \u001B[38;5;241m1\u001B[39m,\n\u001B[0;32m      4\u001B[0m     \u001B[38;5;124m\"\u001B[39m\u001B[38;5;124mstore_and_fwd_flag\u001B[39m\u001B[38;5;124m\"\u001B[39m: \u001B[38;5;124m\"\u001B[39m\u001B[38;5;124mN\u001B[39m\u001B[38;5;124m\"\u001B[39m,  \u001B[38;5;66;03m# Vous pouvez choisir \"N\" ou \"Y\"\u001B[39;00m\n\u001B[0;32m      5\u001B[0m     \u001B[38;5;124m\"\u001B[39m\u001B[38;5;124mcongestion_surcharge\u001B[39m\u001B[38;5;124m\"\u001B[39m: \u001B[38;5;241m2.5\u001B[39m,\n\u001B[0;32m      6\u001B[0m     \u001B[38;5;124m\"\u001B[39m\u001B[38;5;124mAirport_fee\u001B[39m\u001B[38;5;124m\"\u001B[39m: \u001B[38;5;241m0\u001B[39m\n\u001B[0;32m      7\u001B[0m })\n",
      "\u001B[1;31mNameError\u001B[0m: name 'df_dask' is not defined"
     ]
    }
   ],
   "execution_count": 1
  },
  {
   "cell_type": "code",
   "source": [
    "# Remplacer les valeurs manquantes de `passenger_count` par la moyenne\n",
    "mean_passenger_count = df_dask[\"passenger_count\"].mean().compute()\n",
    "df_dask = df_dask.assign(passenger_count=df_dask[\"passenger_count\"].fillna(mean_passenger_count))"
   ],
   "metadata": {
    "colab": {
     "base_uri": "https://localhost:8080/"
    },
    "id": "XcJNtdTYGKe6",
    "outputId": "590426b5-ccdd-44dc-c7ea-03a0e8a8e18a",
    "ExecuteTime": {
     "end_time": "2025-03-27T14:09:52.792343Z",
     "start_time": "2025-03-27T14:09:52.425581Z"
    }
   },
   "outputs": [],
   "execution_count": 8
  },
  {
   "cell_type": "code",
   "source": [
    "# Filtrer les trajets aberrants\n",
    "df_dask = df_dask[(df_dask[\"fare_amount\"] >= 2) & (df_dask[\"trip_distance\"] >= 0.5)]"
   ],
   "metadata": {
    "id": "z6UD541tGNEq",
    "ExecuteTime": {
     "end_time": "2025-03-27T14:09:52.827173Z",
     "start_time": "2025-03-27T14:09:52.811336Z"
    }
   },
   "outputs": [],
   "execution_count": 9
  },
  {
   "cell_type": "code",
   "source": [
    "# Convertir les dates en datetime\n",
    "df_dask[\"tpep_pickup_datetime\"] = dd.to_datetime(df_dask[\"tpep_pickup_datetime\"])\n",
    "df_dask[\"tpep_dropoff_datetime\"] = dd.to_datetime(df_dask[\"tpep_dropoff_datetime\"])"
   ],
   "metadata": {
    "id": "MDy9STl2GPDa",
    "ExecuteTime": {
     "end_time": "2025-03-27T14:09:52.880085Z",
     "start_time": "2025-03-27T14:09:52.860233Z"
    }
   },
   "outputs": [],
   "execution_count": 10
  },
  {
   "cell_type": "code",
   "source": [
    "# Compute the sum of NaN values per column\n",
    "df_dask.isnull().sum().compute()"
   ],
   "metadata": {
    "colab": {
     "base_uri": "https://localhost:8080/",
     "height": 680
    },
    "id": "Fkhv5CvPHNUi",
    "outputId": "e4c5ecdb-0f02-4e33-b9a3-fb4e1b6760d3",
    "ExecuteTime": {
     "end_time": "2025-03-27T14:09:54.214820Z",
     "start_time": "2025-03-27T14:09:52.913489Z"
    }
   },
   "outputs": [
    {
     "data": {
      "text/plain": [
       "VendorID                 0\n",
       "tpep_pickup_datetime     0\n",
       "tpep_dropoff_datetime    0\n",
       "passenger_count          0\n",
       "trip_distance            0\n",
       "RatecodeID               0\n",
       "store_and_fwd_flag       0\n",
       "PULocationID             0\n",
       "DOLocationID             0\n",
       "payment_type             0\n",
       "fare_amount              0\n",
       "extra                    0\n",
       "mta_tax                  0\n",
       "tip_amount               0\n",
       "tolls_amount             0\n",
       "improvement_surcharge    0\n",
       "total_amount             0\n",
       "congestion_surcharge     0\n",
       "Airport_fee              0\n",
       "dtype: int64"
      ]
     },
     "execution_count": 11,
     "metadata": {},
     "output_type": "execute_result"
    }
   ],
   "execution_count": 11
  },
  {
   "cell_type": "code",
   "source": [
    "# We can know the average fare for each hour of the day .\n",
    "df_dask[\"hour\"] = df_dask[\"tpep_pickup_datetime\"].dt.hour\n",
    "df_dask[\"day_of_week\"] = df_dask[\"tpep_pickup_datetime\"].dt.dayofweek\n",
    "\n",
    "df_agg = df_dask.groupby(\"hour\")[\"fare_amount\"].mean().compute()\n",
    "\n",
    "plt.figure(figsize=(12, 6))\n",
    "plt.plot(df_agg.index, df_agg.values, marker='o', linestyle='-', color='r', label=\"Tax mean\")\n",
    "plt.xlabel(\"Hour of the Day\")\n",
    "plt.ylabel(\"Tax mean ($)\")\n",
    "plt.title(\"Evolution of tax mean per hour\")\n",
    "plt.xticks(range(0, 24))\n",
    "plt.grid(True)\n",
    "plt.legend()\n",
    "plt.show()"
   ],
   "metadata": {
    "colab": {
     "base_uri": "https://localhost:8080/",
     "height": 564
    },
    "id": "FAVx4xINM606",
    "outputId": "fe84de38-4a36-46a0-fea0-e96f8bc23dd7",
    "ExecuteTime": {
     "end_time": "2025-03-27T14:09:54.828001Z",
     "start_time": "2025-03-27T14:09:54.246866Z"
    }
   },
   "outputs": [
    {
     "data": {
      "text/plain": [
       "<Figure size 1200x600 with 1 Axes>"
      ],
      "image/png": "[encoded data removed]"
     },
     "metadata": {},
     "output_type": "display_data"
    }
   ],
   "execution_count": 12
  },
  {
   "cell_type": "code",
   "source": [
    "# We can know the hour when there are the most trips during the day .\n",
    "df_dask[\"hour\"] = df_dask[\"tpep_pickup_datetime\"].dt.hour\n",
    "\n",
    "df_trips = df_dask.groupby(\"hour\").size().compute()\n",
    "\n",
    "plt.figure(figsize=(12, 6))\n",
    "plt.plot(df_trips.index, df_trips.values, marker='o', linestyle='-', color='b', label=\"Number of Trips\")\n",
    "plt.xlabel(\"Hour of the Day\")\n",
    "plt.ylabel(\"Number of Trips\")\n",
    "plt.title(\"Number of Trips per Hour of the Day\")\n",
    "plt.xticks(range(0, 24))\n",
    "plt.grid(True)\n",
    "plt.legend()\n",
    "plt.show()"
   ],
   "metadata": {
    "colab": {
     "base_uri": "https://localhost:8080/",
     "height": 564
    },
    "id": "g4aArgwPOdBa",
    "outputId": "5c4472ad-d36d-45a9-d22d-4125b5cdf378",
    "ExecuteTime": {
     "end_time": "2025-03-27T14:09:55.374804Z",
     "start_time": "2025-03-27T14:09:54.893636Z"
    }
   },
   "outputs": [
    {
     "data": {
      "text/plain": [
       "<Figure size 1200x600 with 1 Axes>"
      ],
      "image/png": "[encoded data removed]"
     },
     "metadata": {},
     "output_type": "display_data"
    }
   ],
   "execution_count": 13
  },
  {
   "cell_type": "code",
   "source": [
    "# We can see that even if the tax in 5 a.m is the highest one but it does not mean that is the most hour that taxis work in.\n",
    "# If we want to know the best profitable hour in the day we do some small calculations,we multiply the number of trips by the price of the tax or to be more accurate we count the total revenue by adding on the fare amount."
   ],
   "metadata": {
    "id": "11DG_fHJPRVK",
    "ExecuteTime": {
     "end_time": "2025-03-27T14:09:55.390580Z",
     "start_time": "2025-03-27T14:09:55.374804Z"
    }
   },
   "outputs": [],
   "execution_count": 14
  },
  {
   "cell_type": "code",
   "source": [
    "df_dask[\"fare_amount\"] = df_dask[\"fare_amount\"].astype(float)\n",
    "\n",
    "df_dask[\"tpep_pickup_datetime\"] = dd.to_datetime(df_dask[\"tpep_pickup_datetime\"])\n",
    "\n",
    "df_dask[\"hour\"] = df_dask[\"tpep_pickup_datetime\"].dt.hour\n",
    "\n",
    "df_revenue = df_dask.groupby(\"hour\").agg(\n",
    "    total_revenue=(\"fare_amount\", \"sum\"),\n",
    "    count=(\"fare_amount\", \"count\")\n",
    ")\n",
    "\n",
    "df_revenue = df_revenue.compute()\n",
    "\n",
    "best_hour = df_revenue.loc[df_revenue[\"total_revenue\"].idxmax()]\n",
    "\n",
    "print(f\"The best hour of the day for payment is {best_hour.name} with a total revenue of {best_hour['total_revenue']:.0f} $ .\")"
   ],
   "metadata": {
    "colab": {
     "base_uri": "https://localhost:8080/"
    },
    "id": "4H3yF2kOZd_y",
    "outputId": "8df34dfa-9a48-4d60-ee38-e5771bf51b8c",
    "ExecuteTime": {
     "end_time": "2025-03-27T14:09:55.841716Z",
     "start_time": "2025-03-27T14:09:55.410987Z"
    }
   },
   "outputs": [
    {
     "name": "stdout",
     "output_type": "stream",
     "text": [
      "The best hour of the day for payment is 17 with a total revenue of 3570427 $ .\n"
     ]
    }
   ],
   "execution_count": 15
  },
  {
   "cell_type": "code",
   "source": [
    "import time\n",
    "\n",
    "# Measure time to write CSV\n",
    "start_time = time.time()\n",
    "df_dask.to_csv(\"transformed_data.csv\", index=False, single_file=True)\n",
    "csv_write_time = time.time() - start_time\n",
    "print(f\"CSV write time: {csv_write_time:.4f} seconds\")\n",
    "\n",
    "# Measure time to write Parquet\n",
    "start_time = time.time()\n",
    "df_dask.to_parquet(\"transformed_data.parquet\", engine='pyarrow')\n",
    "parquet_write_time = time.time() - start_time\n",
    "print(f\"Parquet write time: {parquet_write_time:.4f} seconds\")\n",
    "\n",
    "# Measure time to read CSV\n",
    "start_time = time.time()\n",
    "df_csv = dd.read_csv(\"transformed_data.csv\")\n",
    "csv_read_time = time.time() - start_time\n",
    "print(f\"CSV read time: {csv_read_time:.4f} seconds\")\n",
    "\n",
    "# Measure time to read Parquet\n",
    "start_time = time.time()\n",
    "df_parquet = dd.read_parquet(\"transformed_data.parquet\")\n",
    "parquet_read_time = time.time() - start_time\n",
    "print(f\"Parquet read time: {parquet_read_time:.4f} seconds\")\n"
   ],
   "metadata": {
    "colab": {
     "base_uri": "https://localhost:8080/"
    },
    "id": "B7NjE-e5jrJJ",
    "outputId": "bed2b90c-2ecc-4d9d-8066-db9a4a802bce",
    "ExecuteTime": {
     "end_time": "2025-03-27T14:10:16.997379Z",
     "start_time": "2025-03-27T14:09:55.873949Z"
    }
   },
   "outputs": [
    {
     "name": "stdout",
     "output_type": "stream",
     "text": [
      "CSV write time: 18.2428 seconds\n",
      "Parquet write time: 2.8330 seconds\n",
      "CSV read time: 0.0211 seconds\n",
      "Parquet read time: 0.0105 seconds\n"
     ]
    }
   ],
   "execution_count": 16
  }
 ]
}
