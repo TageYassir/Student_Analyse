{
 "nbformat": 4,
 "nbformat_minor": 0,
 "metadata": {
  "colab": {
   "provenance": []
  },
  "kernelspec": {
   "name": "python3",
   "display_name": "Python 3 (ipykernel)",
   "language": "python"
  },
  "language_info": {
   "name": "python"
  }
 },
 "cells": [
  {
   "cell_type": "code",
   "metadata": {
    "id": "ieMyRxsaRf2t",
    "ExecuteTime": {
     "end_time": "2025-04-04T11:57:23.682597Z",
     "start_time": "2025-04-04T11:57:23.580551Z"
    }
   },
   "source": [
    "from pyspark.sql import SparkSession\n",
    "from pyspark.conf import SparkConf\n",
    "from pyspark.sql.functions import col, count, when, mean, hour, dayofweek, sum\n",
    "from pyspark.sql import functions as F\n",
    "from pyspark.sql.types import StringType, TimestampType\n",
    "import pandas as pd\n",
    "import numpy as np\n",
    "import seaborn as sns\n",
    "import matplotlib.pyplot as plt"
   ],
   "outputs": [],
   "execution_count": 1
  },
  {
   "metadata": {
    "id": "Y3-FxoKaR6lb",
    "ExecuteTime": {
     "end_time": "2025-04-04T11:57:36.307777Z",
     "start_time": "2025-04-04T11:57:23.693246Z"
    }
   },
   "cell_type": "code",
   "source": "spark = SparkSession.builder.appName(\"TaxiAnalyse\").getOrCreate()",
   "outputs": [],
   "execution_count": 2
  },
  {
   "cell_type": "code",
   "source": [
    "# Load data\n",
    "file_path = r\"/backend/uploads/yellow_tripdata_2024-01.parquet\"\n",
    "df_spark = spark.read.parquet(file_path, header=True, inferSchema=True)"
   ],
   "metadata": {
    "id": "T0062-ZdSKP6",
    "ExecuteTime": {
     "end_time": "2025-04-04T11:57:38.791553Z",
     "start_time": "2025-04-04T11:57:36.786513Z"
    }
   },
   "outputs": [],
   "execution_count": 3
  },
  {
   "cell_type": "code",
   "source": [
    "df_spark.show(5)"
   ],
   "metadata": {
    "colab": {
     "base_uri": "https://localhost:8080/"
    },
    "id": "T5NBd6DaTOqa",
    "outputId": "0472c6f3-8def-468e-bd76-7cb92b047d3d",
    "ExecuteTime": {
     "end_time": "2025-04-04T11:57:40.508455Z",
     "start_time": "2025-04-04T11:57:38.824821Z"
    }
   },
   "outputs": [
    {
     "name": "stdout",
     "output_type": "stream",
     "text": [
      "+--------+--------------------+---------------------+---------------+-------------+----------+------------------+------------+------------+------------+-----------+-----+-------+----------+------------+---------------------+------------+--------------------+-----------+\n",
      "|VendorID|tpep_pickup_datetime|tpep_dropoff_datetime|passenger_count|trip_distance|RatecodeID|store_and_fwd_flag|PULocationID|DOLocationID|payment_type|fare_amount|extra|mta_tax|tip_amount|tolls_amount|improvement_surcharge|total_amount|congestion_surcharge|Airport_fee|\n",
      "+--------+--------------------+---------------------+---------------+-------------+----------+------------------+------------+------------+------------+-----------+-----+-------+----------+------------+---------------------+------------+--------------------+-----------+\n",
      "|       2| 2024-01-01 00:57:55|  2024-01-01 01:17:43|              1|         1.72|         1|                 N|         186|          79|           2|       17.7|  1.0|    0.5|       0.0|         0.0|                  1.0|        22.7|                 2.5|        0.0|\n",
      "|       1| 2024-01-01 00:03:00|  2024-01-01 00:09:36|              1|          1.8|         1|                 N|         140|         236|           1|       10.0|  3.5|    0.5|      3.75|         0.0|                  1.0|       18.75|                 2.5|        0.0|\n",
      "|       1| 2024-01-01 00:17:06|  2024-01-01 00:35:01|              1|          4.7|         1|                 N|         236|          79|           1|       23.3|  3.5|    0.5|       3.0|         0.0|                  1.0|        31.3|                 2.5|        0.0|\n",
      "|       1| 2024-01-01 00:36:38|  2024-01-01 00:44:56|              1|          1.4|         1|                 N|          79|         211|           1|       10.0|  3.5|    0.5|       2.0|         0.0|                  1.0|        17.0|                 2.5|        0.0|\n",
      "|       1| 2024-01-01 00:46:51|  2024-01-01 00:52:57|              1|          0.8|         1|                 N|         211|         148|           1|        7.9|  3.5|    0.5|       3.2|         0.0|                  1.0|        16.1|                 2.5|        0.0|\n",
      "+--------+--------------------+---------------------+---------------+-------------+----------+------------------+------------+------------+------------+-----------+-----+-------+----------+------------+---------------------+------------+--------------------+-----------+\n",
      "only showing top 5 rows\n",
      "\n"
     ]
    }
   ],
   "execution_count": 4
  },
  {
   "cell_type": "code",
   "source": [
    "df_spark.printSchema()"
   ],
   "metadata": {
    "colab": {
     "base_uri": "https://localhost:8080/"
    },
    "id": "-fPvQIeO7ycz",
    "outputId": "16403684-5b61-4c33-a187-ccd1ea296cd2",
    "ExecuteTime": {
     "end_time": "2025-04-04T11:57:40.539913Z",
     "start_time": "2025-04-04T11:57:40.531948Z"
    }
   },
   "outputs": [
    {
     "name": "stdout",
     "output_type": "stream",
     "text": [
      "root\n",
      " |-- VendorID: integer (nullable = true)\n",
      " |-- tpep_pickup_datetime: timestamp_ntz (nullable = true)\n",
      " |-- tpep_dropoff_datetime: timestamp_ntz (nullable = true)\n",
      " |-- passenger_count: long (nullable = true)\n",
      " |-- trip_distance: double (nullable = true)\n",
      " |-- RatecodeID: long (nullable = true)\n",
      " |-- store_and_fwd_flag: string (nullable = true)\n",
      " |-- PULocationID: integer (nullable = true)\n",
      " |-- DOLocationID: integer (nullable = true)\n",
      " |-- payment_type: long (nullable = true)\n",
      " |-- fare_amount: double (nullable = true)\n",
      " |-- extra: double (nullable = true)\n",
      " |-- mta_tax: double (nullable = true)\n",
      " |-- tip_amount: double (nullable = true)\n",
      " |-- tolls_amount: double (nullable = true)\n",
      " |-- improvement_surcharge: double (nullable = true)\n",
      " |-- total_amount: double (nullable = true)\n",
      " |-- congestion_surcharge: double (nullable = true)\n",
      " |-- Airport_fee: double (nullable = true)\n",
      "\n"
     ]
    }
   ],
   "execution_count": 5
  },
  {
   "cell_type": "code",
   "source": [
    "# Check for null values in each column\n",
    "null_counts = df_spark.select([count(when(col(c).isNull(), c)).alias(c) for c in df_spark.columns])\n",
    "null_counts.show()"
   ],
   "metadata": {
    "colab": {
     "base_uri": "https://localhost:8080/"
    },
    "id": "QCTBO_ih9ATC",
    "outputId": "707faf82-b2b5-467e-d227-76747c620788",
    "ExecuteTime": {
     "end_time": "2025-04-04T11:57:41.928497Z",
     "start_time": "2025-04-04T11:57:40.697460Z"
    }
   },
   "outputs": [
    {
     "name": "stdout",
     "output_type": "stream",
     "text": [
      "+--------+--------------------+---------------------+---------------+-------------+----------+------------------+------------+------------+------------+-----------+-----+-------+----------+------------+---------------------+------------+--------------------+-----------+\n",
      "|VendorID|tpep_pickup_datetime|tpep_dropoff_datetime|passenger_count|trip_distance|RatecodeID|store_and_fwd_flag|PULocationID|DOLocationID|payment_type|fare_amount|extra|mta_tax|tip_amount|tolls_amount|improvement_surcharge|total_amount|congestion_surcharge|Airport_fee|\n",
      "+--------+--------------------+---------------------+---------------+-------------+----------+------------------+------------+------------+------------+-----------+-----+-------+----------+------------+---------------------+------------+--------------------+-----------+\n",
      "|       0|                   0|                    0|         140162|            0|    140162|            140162|           0|           0|           0|          0|    0|      0|         0|           0|                    0|           0|              140162|     140162|\n",
      "+--------+--------------------+---------------------+---------------+-------------+----------+------------------+------------+------------+------------+-----------+-----+-------+----------+------------+---------------------+------------+--------------------+-----------+\n",
      "\n"
     ]
    }
   ],
   "execution_count": 6
  },
  {
   "cell_type": "code",
   "source": [
    "# Statistics\n",
    "df_spark.summary().show()"
   ],
   "metadata": {
    "colab": {
     "base_uri": "https://localhost:8080/"
    },
    "id": "WuU-grHPF9zi",
    "outputId": "e1ca530b-bbad-47b1-a7fe-6e8e7da16f89",
    "ExecuteTime": {
     "end_time": "2025-04-04T11:57:54.709740Z",
     "start_time": "2025-04-04T11:57:41.991396Z"
    }
   },
   "outputs": [
    {
     "name": "stdout",
     "output_type": "stream",
     "text": [
      "+-------+------------------+------------------+------------------+-----------------+------------------+------------------+------------------+------------------+------------------+------------------+-------------------+------------------+------------------+---------------------+------------------+--------------------+-------------------+\n",
      "|summary|          VendorID|   passenger_count|     trip_distance|       RatecodeID|store_and_fwd_flag|      PULocationID|      DOLocationID|      payment_type|       fare_amount|             extra|            mta_tax|        tip_amount|      tolls_amount|improvement_surcharge|      total_amount|congestion_surcharge|        Airport_fee|\n",
      "+-------+------------------+------------------+------------------+-----------------+------------------+------------------+------------------+------------------+------------------+------------------+-------------------+------------------+------------------+---------------------+------------------+--------------------+-------------------+\n",
      "|  count|           2964624|           2824462|           2964624|          2824462|           2824462|           2964624|           2964624|           2964624|           2964624|           2964624|            2964624|           2964624|           2964624|              2964624|           2964624|             2824462|            2824462|\n",
      "|   mean|1.7542042431013174|1.3392808966805005|3.6521691789583146|2.069359403666964|              NULL|166.01788354948215|165.11671227110082|1.1612707041432573|18.175061916791037|1.4515984320439959| 0.4833823108765226|3.3358700158940002|0.5270212040378977|   0.9756318507844561|26.801504770952707|  2.2561220508542865|  0.141161130863152|\n",
      "| stddev|0.4325902017036028|0.8502816924800847|225.46257238220082|9.823218952795623|              NULL| 63.62391448741358| 69.31534978524938|0.5808685566109485| 18.94954770590526|1.8041024767538902|0.11776003015379852| 3.896550599806763|2.1283096763989056|  0.21836445772742988|23.385577429672516|  0.8232746699398348|0.48762388723928013|\n",
      "|    min|                 1|                 0|               0.0|                1|                 N|                 1|                 1|                 0|            -899.0|              -7.5|               -0.5|             -80.0|             -80.0|                 -1.0|            -900.0|                -2.5|              -1.75|\n",
      "|    25%|                 2|                 1|               1.0|                1|              NULL|               132|               114|                 1|               8.6|               0.0|                0.5|               1.0|               0.0|                  1.0|             15.38|                 2.5|                0.0|\n",
      "|    50%|                 2|                 1|              1.68|                1|              NULL|               162|               162|                 1|              12.8|               1.0|                0.5|               2.7|               0.0|                  1.0|              20.1|                 2.5|                0.0|\n",
      "|    75%|                 2|                 1|              3.11|                1|              NULL|               234|               234|                 1|              20.5|               2.5|                0.5|              4.12|               0.0|                  1.0|             28.56|                 2.5|                0.0|\n",
      "|    max|                 6|                 9|          312722.3|               99|                 Y|               265|               265|                 4|            5000.0|             14.25|                4.0|             428.0|            115.92|                  1.0|            5000.0|                 2.5|               1.75|\n",
      "+-------+------------------+------------------+------------------+-----------------+------------------+------------------+------------------+------------------+------------------+------------------+-------------------+------------------+------------------+---------------------+------------------+--------------------+-------------------+\n",
      "\n"
     ]
    }
   ],
   "execution_count": 7
  },
  {
   "cell_type": "code",
   "source": [
    "# Remplir les valeurs manquantes\n",
    "df_spark = df_spark.fillna({\n",
    "    \"RatecodeID\": 1,\n",
    "    \"store_and_fwd_flag\": \"N\",  # Vous pouvez choisir soit \"N\" soit \"Y\"\n",
    "    \"congestion_surcharge\": 2.5,\n",
    "    \"Airport_fee\": 0\n",
    "})"
   ],
   "metadata": {
    "id": "_UsruFz3Cjoa",
    "ExecuteTime": {
     "end_time": "2025-04-04T11:57:54.772924Z",
     "start_time": "2025-04-04T11:57:54.743276Z"
    }
   },
   "outputs": [],
   "execution_count": 8
  },
  {
   "cell_type": "code",
   "source": [
    "# Remplacer les valeurs manquantes de `passenger_count` par la moyenne\n",
    "mean_passenger_count = df_spark.select(mean(col(\"passenger_count\"))).collect()[0][0]\n",
    "df_spark = df_spark.fillna({\"passenger_count\": mean_passenger_count})"
   ],
   "metadata": {
    "id": "QcHggw0nE5Pj",
    "ExecuteTime": {
     "end_time": "2025-04-04T11:57:55.154667Z",
     "start_time": "2025-04-04T11:57:54.822223Z"
    }
   },
   "outputs": [],
   "execution_count": 9
  },
  {
   "cell_type": "code",
   "source": [
    "# Filtrer les trajets aberrants (prix < 2$ ou distance < 0.5 km)\n",
    "df_spark = df_spark.filter((col(\"fare_amount\") >= 2) & (col(\"trip_distance\") >= 0.5))"
   ],
   "metadata": {
    "id": "AZ9lUieUE8hq",
    "ExecuteTime": {
     "end_time": "2025-04-04T11:57:55.201851Z",
     "start_time": "2025-04-04T11:57:55.170462Z"
    }
   },
   "outputs": [],
   "execution_count": 10
  },
  {
   "cell_type": "code",
   "source": [
    "# Convertir les colonnes de date si nécessaire\n",
    "df_spark = df_spark.withColumn(\"tpep_pickup_datetime\", col(\"tpep_pickup_datetime\").cast(\"timestamp\"))\n",
    "df_spark = df_spark.withColumn(\"tpep_dropoff_datetime\", col(\"tpep_dropoff_datetime\").cast(\"timestamp\"))"
   ],
   "metadata": {
    "id": "iM0D5w9xFFrK",
    "ExecuteTime": {
     "end_time": "2025-04-04T11:57:55.249339Z",
     "start_time": "2025-04-04T11:57:55.217618Z"
    }
   },
   "outputs": [],
   "execution_count": 11
  },
  {
   "cell_type": "code",
   "source": [
    "# Check for null values in each column\n",
    "null_counts = df_spark.select([count(when(col(c).isNull(), c)).alias(c) for c in df_spark.columns])\n",
    "null_counts.show()"
   ],
   "metadata": {
    "colab": {
     "base_uri": "https://localhost:8080/"
    },
    "id": "H8sjtyXnHBUq",
    "outputId": "16a4454b-4149-4049-8dde-d515379ba736",
    "ExecuteTime": {
     "end_time": "2025-04-04T11:57:56.305440Z",
     "start_time": "2025-04-04T11:57:55.266979Z"
    }
   },
   "outputs": [
    {
     "name": "stdout",
     "output_type": "stream",
     "text": [
      "+--------+--------------------+---------------------+---------------+-------------+----------+------------------+------------+------------+------------+-----------+-----+-------+----------+------------+---------------------+------------+--------------------+-----------+\n",
      "|VendorID|tpep_pickup_datetime|tpep_dropoff_datetime|passenger_count|trip_distance|RatecodeID|store_and_fwd_flag|PULocationID|DOLocationID|payment_type|fare_amount|extra|mta_tax|tip_amount|tolls_amount|improvement_surcharge|total_amount|congestion_surcharge|Airport_fee|\n",
      "+--------+--------------------+---------------------+---------------+-------------+----------+------------------+------------+------------+------------+-----------+-----+-------+----------+------------+---------------------+------------+--------------------+-----------+\n",
      "|       0|                   0|                    0|              0|            0|         0|                 0|           0|           0|           0|          0|    0|      0|         0|           0|                    0|           0|                   0|          0|\n",
      "+--------+--------------------+---------------------+---------------+-------------+----------+------------------+------------+------------+------------+-----------+-----+-------+----------+------------+---------------------+------------+--------------------+-----------+\n",
      "\n"
     ]
    }
   ],
   "execution_count": 12
  },
  {
   "cell_type": "code",
   "source": [
    "df_spark = df_spark.withColumn(\"hour\", hour(col(\"tpep_pickup_datetime\")))\n",
    "df_spark = df_spark.withColumn(\"day_of_week\", dayofweek(col(\"tpep_pickup_datetime\")))"
   ],
   "metadata": {
    "id": "CJ1MkQefMJ0i",
    "ExecuteTime": {
     "end_time": "2025-04-04T11:57:56.368880Z",
     "start_time": "2025-04-04T11:57:56.342924Z"
    }
   },
   "outputs": [],
   "execution_count": 13
  },
  {
   "cell_type": "code",
   "source": [
    "# We can know the average fare for each hour of the day .\n",
    "df_agg = df_spark.groupBy(\"hour\", \"day_of_week\").agg(mean(\"fare_amount\").alias(\"avg_fare\"))\n",
    "\n",
    "# Identifier les heures de pointe\n",
    "df_peak = df_agg.orderBy(col(\"avg_fare\").desc())\n",
    "\n",
    "df_pandas = df_agg.toPandas()\n",
    "\n",
    "plt.figure(figsize=(12, 6))\n",
    "sns.boxplot(x=df_pandas[\"hour\"], y=df_pandas[\"avg_fare\"])\n",
    "plt.xlabel(\"Heure de la journée\")\n",
    "plt.ylabel(\"Tarif moyen\")\n",
    "plt.title(\"Distribution des tarifs par heure\")\n",
    "plt.xticks(rotation=45)\n",
    "plt.show()"
   ],
   "metadata": {
    "colab": {
     "base_uri": "https://localhost:8080/",
     "height": 573
    },
    "id": "455x6UH2L-rK",
    "outputId": "23e8bec5-25f6-48e6-bd50-c246b2c31b83",
    "ExecuteTime": {
     "end_time": "2025-04-04T11:57:58.141050Z",
     "start_time": "2025-04-04T11:57:56.403359Z"
    }
   },
   "outputs": [
    {
     "data": {
      "text/plain": [
       "<Figure size 1200x600 with 1 Axes>"
      ],
      "image/png": "[encoded data removed]"
     },
     "metadata": {},
     "output_type": "display_data"
    }
   ],
   "execution_count": 14
  },
  {
   "cell_type": "code",
   "source": [
    "# We can know the hour when there are the most trips during the day.\n",
    "df_spark = df_spark.withColumn(\"hour\", hour(col(\"tpep_pickup_datetime\")))\n",
    "\n",
    "df_trips = df_spark.groupBy(\"hour\").count().orderBy(\"hour\")\n",
    "\n",
    "df_pandas = df_trips.toPandas()\n",
    "\n",
    "plt.figure(figsize=(12, 6))\n",
    "sns.barplot(x=\"hour\", y=\"count\", data=df_pandas, color='skyblue')\n",
    "\n",
    "plt.xlabel(\"Hour of the Day\")\n",
    "plt.ylabel(\"Number of Trips\")\n",
    "plt.title(\"Number of Trips per Hour of the Day\")\n",
    "plt.xticks(range(0, 24))\n",
    "plt.grid(axis=\"y\", linestyle=\"--\", alpha=0.7)\n",
    "plt.show()"
   ],
   "metadata": {
    "colab": {
     "base_uri": "https://localhost:8080/",
     "height": 564
    },
    "id": "26QFRd3JQ_NK",
    "outputId": "aed16ed5-e853-4ed7-ae32-3bb4cf59b8b5",
    "ExecuteTime": {
     "end_time": "2025-04-04T11:57:58.992734Z",
     "start_time": "2025-04-04T11:57:58.156825Z"
    }
   },
   "outputs": [
    {
     "data": {
      "text/plain": [
       "<Figure size 1200x600 with 1 Axes>"
      ],
      "image/png": "[encoded data removed]"
     },
     "metadata": {},
     "output_type": "display_data"
    }
   ],
   "execution_count": 15
  },
  {
   "cell_type": "code",
   "source": [
    "# We can see that even if the tax in 5 a.m is the highest one but it does not mean that is the most hour that taxis work in.\n",
    "# If we want to know the best profitable hour in the day we do some small calculations,we multiply the number of trips by the price of the tax or to be more accurate we count the total revenue by adding on the fare amount."
   ],
   "metadata": {
    "id": "mQTor4euTGqS",
    "ExecuteTime": {
     "end_time": "2025-04-04T11:57:59.024264Z",
     "start_time": "2025-04-04T11:57:59.008498Z"
    }
   },
   "outputs": [],
   "execution_count": 16
  },
  {
   "cell_type": "code",
   "source": [
    "df_spark = df_spark.withColumn(\"fare_amount\", col(\"fare_amount\").cast(\"float\"))\n",
    "\n",
    "df_spark = df_spark.withColumn(\"hour\", hour(col(\"tpep_pickup_datetime\")))\n",
    "\n",
    "df_revenue = df_spark.groupBy(\"hour\").agg(\n",
    "    sum(col(\"fare_amount\")).alias(\"total_revenue\"),\n",
    "    count(col(\"fare_amount\")).alias(\"count\")\n",
    ")\n",
    "\n",
    "df_pandas = df_revenue.toPandas()\n",
    "\n",
    "best_hour = df_pandas.loc[df_pandas[\"total_revenue\"].idxmax()]\n",
    "\n",
    "print(f\"The best hour of the day for payment is {best_hour['hour']:.0f} with a total revenue of {best_hour['total_revenue']:.0f} $ .\")"
   ],
   "metadata": {
    "colab": {
     "base_uri": "https://localhost:8080/"
    },
    "id": "xmBP9lZnTiP6",
    "outputId": "c49bbddb-a7c0-493c-8e5f-d2e80e6732aa",
    "ExecuteTime": {
     "end_time": "2025-04-04T11:57:59.555919Z",
     "start_time": "2025-04-04T11:57:59.040031Z"
    }
   },
   "outputs": [
    {
     "name": "stdout",
     "output_type": "stream",
     "text": [
      "The best hour of the day for payment is 17 with a total revenue of 3570427 $ .\n"
     ]
    }
   ],
   "execution_count": 17
  }
 ]
}
